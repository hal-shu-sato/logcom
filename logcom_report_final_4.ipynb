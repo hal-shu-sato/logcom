{
 "cells": [
  {
   "cell_type": "code",
   "execution_count": null,
   "metadata": {},
   "outputs": [],
   "source": [
    "def phi1(n):\n",
    "    result = []\n",
    "    for i in range(1, n + 1):\n",
    "        part = map(str, (i + 2, i + 1, i))\n",
    "        result.append(\" \".join(part))\n",
    "    return result"
   ]
  },
  {
   "cell_type": "code",
   "execution_count": null,
   "metadata": {},
   "outputs": [],
   "source": [
    "def phi2(n):\n",
    "    result = []\n",
    "    for i in range(1, n + 1):\n",
    "        part = map(str, (2 * i + 1, 2 * i + 3))\n",
    "        result.append(\" \".join(part))\n",
    "    return result"
   ]
  },
  {
   "cell_type": "code",
   "execution_count": null,
   "metadata": {},
   "outputs": [],
   "source": [
    "def phi3(n):\n",
    "    result = []\n",
    "    for i in range(1, n + 1):\n",
    "        part1 = map(str, (2 * i, 2 * i + 2, 2 * i + 4))\n",
    "        part2 = map(str, (2 * i, 2 * i + 2))\n",
    "        part4 = map(str, (2 * i, 2 * i + 4))\n",
    "        part3 = map(str, (2 * i + 2, 2 * i + 4))\n",
    "        parts = [\" \".join(part) for part in (part1, part2, part3, part4)]\n",
    "        result.append(\" 0 \".join(parts))\n",
    "    return result"
   ]
  },
  {
   "cell_type": "code",
   "execution_count": null,
   "metadata": {},
   "outputs": [],
   "source": [
    "result1 = phi1(58)\n",
    "result2 = phi2(28)\n",
    "result3 = phi3(28)\n",
    "result = result1 + result2 + result3\n",
    "# print(result1)\n",
    "# print(result2)\n",
    "# print(result3)\n",
    "print(\"p cnf 60\", len(result1) + len(result2) + len(result3) * 4)\n",
    "print(\" 0 \".join(result))"
   ]
  }
 ],
 "metadata": {
  "kernelspec": {
   "display_name": "Python 3",
   "language": "python",
   "name": "python3"
  },
  "language_info": {
   "codemirror_mode": {
    "name": "ipython",
    "version": 3
   },
   "file_extension": ".py",
   "mimetype": "text/x-python",
   "name": "python",
   "nbconvert_exporter": "python",
   "pygments_lexer": "ipython3",
   "version": "3.12.1"
  }
 },
 "nbformat": 4,
 "nbformat_minor": 2
}
