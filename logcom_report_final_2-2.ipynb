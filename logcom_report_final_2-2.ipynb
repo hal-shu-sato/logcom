{
 "cells": [
  {
   "cell_type": "code",
   "execution_count": null,
   "metadata": {},
   "outputs": [],
   "source": [
    "def to(p, q):\n",
    "    if p == True and q == False:\n",
    "        return False\n",
    "    return True"
   ]
  },
  {
   "cell_type": "code",
   "execution_count": null,
   "metadata": {},
   "outputs": [],
   "source": [
    "def log_eq(x1, x2, x3, x4, x5):\n",
    "    return to(\n",
    "        to(x1, to(to(x2, x3), to(x4, x5))),\n",
    "        to(to(x2, to(x1, x3)), to(x4, to(x1, x5))),\n",
    "    )"
   ]
  },
  {
   "cell_type": "code",
   "execution_count": null,
   "metadata": {},
   "outputs": [],
   "source": [
    "def run():\n",
    "    for x1 in [True, False]:\n",
    "        for x2 in [True, False]:\n",
    "            for x3 in [True, False]:\n",
    "                for x4 in [True, False]:\n",
    "                    for x5 in [True, False]:\n",
    "                        result = log_eq(x1, x2, x3, x4, x5)\n",
    "                        print(result)\n",
    "                        if result == False:\n",
    "                            print(x1, x2, x3, x4, x5)"
   ]
  },
  {
   "cell_type": "code",
   "execution_count": null,
   "metadata": {},
   "outputs": [],
   "source": [
    "run()"
   ]
  }
 ],
 "metadata": {
  "kernelspec": {
   "display_name": "Python 3",
   "language": "python",
   "name": "python3"
  },
  "language_info": {
   "codemirror_mode": {
    "name": "ipython",
    "version": 3
   },
   "file_extension": ".py",
   "mimetype": "text/x-python",
   "name": "python",
   "nbconvert_exporter": "python",
   "pygments_lexer": "ipython3",
   "version": "3.12.1"
  }
 },
 "nbformat": 4,
 "nbformat_minor": 2
}
