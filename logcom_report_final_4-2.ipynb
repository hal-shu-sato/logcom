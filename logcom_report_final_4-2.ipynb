{
 "cells": [
  {
   "cell_type": "code",
   "execution_count": null,
   "metadata": {},
   "outputs": [],
   "source": [
    "output = \"-1 -2 3 4 -5 6 7 -8 9 10 -11 12 13 -14 15 16 -17 18 19 -20 21 22 -23 24 25 -26 27 28 -29 30 31 -32 33 34 -35 36 37 -38 39 40 -41 42 43 -44 45 46 -47 48 49 -50 51 52 -53 54 55 -56 57 58 -59 60 0\""
   ]
  },
  {
   "cell_type": "code",
   "execution_count": null,
   "metadata": {},
   "outputs": [],
   "source": [
    "output = output.split(\" \")\n",
    "result = \"\"\n",
    "for i in range(59, -1, -1):\n",
    "    if int(output[i]) > 0:\n",
    "        result += \"1\"\n",
    "    else:\n",
    "        result += \"0\"\n",
    "print(result)"
   ]
  }
 ],
 "metadata": {
  "kernelspec": {
   "display_name": "Python 3",
   "language": "python",
   "name": "python3"
  },
  "language_info": {
   "codemirror_mode": {
    "name": "ipython",
    "version": 3
   },
   "file_extension": ".py",
   "mimetype": "text/x-python",
   "name": "python",
   "nbconvert_exporter": "python",
   "pygments_lexer": "ipython3",
   "version": "3.12.1"
  }
 },
 "nbformat": 4,
 "nbformat_minor": 2
}
